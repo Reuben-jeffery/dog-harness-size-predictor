{
 "cells": [
  {
   "cell_type": "code",
   "execution_count": 28,
   "id": "e9cf0391",
   "metadata": {},
   "outputs": [
    {
     "data": {
      "text/html": [
       "<div>\n",
       "<style scoped>\n",
       "    .dataframe tbody tr th:only-of-type {\n",
       "        vertical-align: middle;\n",
       "    }\n",
       "\n",
       "    .dataframe tbody tr th {\n",
       "        vertical-align: top;\n",
       "    }\n",
       "\n",
       "    .dataframe thead th {\n",
       "        text-align: right;\n",
       "    }\n",
       "</style>\n",
       "<table border=\"1\" class=\"dataframe\">\n",
       "  <thead>\n",
       "    <tr style=\"text-align: right;\">\n",
       "      <th></th>\n",
       "      <th>breed</th>\n",
       "      <th>weight</th>\n",
       "      <th>chest</th>\n",
       "      <th>neck</th>\n",
       "      <th>boot_size</th>\n",
       "      <th>age</th>\n",
       "      <th>activity</th>\n",
       "    </tr>\n",
       "  </thead>\n",
       "  <tbody>\n",
       "    <tr>\n",
       "      <th>0</th>\n",
       "      <td>labrador</td>\n",
       "      <td>30</td>\n",
       "      <td>60</td>\n",
       "      <td>35</td>\n",
       "      <td>5</td>\n",
       "      <td>3</td>\n",
       "      <td>high</td>\n",
       "    </tr>\n",
       "    <tr>\n",
       "      <th>1</th>\n",
       "      <td>poodle</td>\n",
       "      <td>10</td>\n",
       "      <td>40</td>\n",
       "      <td>25</td>\n",
       "      <td>3</td>\n",
       "      <td>2</td>\n",
       "      <td>medium</td>\n",
       "    </tr>\n",
       "    <tr>\n",
       "      <th>2</th>\n",
       "      <td>beagle</td>\n",
       "      <td>15</td>\n",
       "      <td>45</td>\n",
       "      <td>30</td>\n",
       "      <td>4</td>\n",
       "      <td>4</td>\n",
       "      <td>low</td>\n",
       "    </tr>\n",
       "  </tbody>\n",
       "</table>\n",
       "</div>"
      ],
      "text/plain": [
       "      breed  weight  chest  neck  boot_size  age activity\n",
       "0  labrador      30     60    35          5    3     high\n",
       "1    poodle      10     40    25          3    2   medium\n",
       "2    beagle      15     45    30          4    4      low"
      ]
     },
     "execution_count": 28,
     "metadata": {},
     "output_type": "execute_result"
    }
   ],
   "source": [
    "# Cell 1: Create sample new dogs CSV in the correct folder if it doesn't exist\n",
    "import pandas as pd\n",
    "import os\n",
    "import joblib\n",
    "\n",
    "rf_pipeline = joblib.load(\"../models/rf_harness_model.pkl\")\n",
    "data_path = \"data/new_dogs.csv\"\n",
    "\n",
    "# Check if file exists, if not, create it\n",
    "if not os.path.exists(data_path):\n",
    "    sample_data = pd.DataFrame({\n",
    "        \"breed\": [\"labrador\", \"poodle\", \"beagle\"],\n",
    "        \"weight\": [30, 10, 15],\n",
    "        \"chest\": [60, 40, 45],\n",
    "        \"neck\": [35, 25, 30],\n",
    "        \"boot_size\": [5, 3, 4],\n",
    "        \"age\": [3, 2, 4],\n",
    "        \"activity\": [\"high\", \"medium\", \"low\"]\n",
    "    })\n",
    "    os.makedirs(\"data\", exist_ok=True)\n",
    "    sample_data.to_csv(data_path, index=False)\n",
    "    print(\"Sample new_dogs.csv created!\")\n",
    "\n",
    "# Load the new dog data\n",
    "new_dog_data = pd.read_csv(data_path)\n",
    "new_dog_data.head()\n"
   ]
  },
  {
   "cell_type": "code",
   "execution_count": 29,
   "id": "996bc496",
   "metadata": {},
   "outputs": [
    {
     "data": {
      "text/html": [
       "<div>\n",
       "<style scoped>\n",
       "    .dataframe tbody tr th:only-of-type {\n",
       "        vertical-align: middle;\n",
       "    }\n",
       "\n",
       "    .dataframe tbody tr th {\n",
       "        vertical-align: top;\n",
       "    }\n",
       "\n",
       "    .dataframe thead th {\n",
       "        text-align: right;\n",
       "    }\n",
       "</style>\n",
       "<table border=\"1\" class=\"dataframe\">\n",
       "  <thead>\n",
       "    <tr style=\"text-align: right;\">\n",
       "      <th></th>\n",
       "      <th>breed</th>\n",
       "      <th>weight</th>\n",
       "      <th>chest</th>\n",
       "      <th>neck</th>\n",
       "      <th>bootsize</th>\n",
       "      <th>age</th>\n",
       "      <th>activity</th>\n",
       "      <th>predicted_harness_size</th>\n",
       "    </tr>\n",
       "  </thead>\n",
       "  <tbody>\n",
       "    <tr>\n",
       "      <th>0</th>\n",
       "      <td>labrador</td>\n",
       "      <td>30</td>\n",
       "      <td>60</td>\n",
       "      <td>35</td>\n",
       "      <td>5</td>\n",
       "      <td>3</td>\n",
       "      <td>high</td>\n",
       "      <td>M</td>\n",
       "    </tr>\n",
       "    <tr>\n",
       "      <th>1</th>\n",
       "      <td>poodle</td>\n",
       "      <td>10</td>\n",
       "      <td>40</td>\n",
       "      <td>25</td>\n",
       "      <td>3</td>\n",
       "      <td>2</td>\n",
       "      <td>medium</td>\n",
       "      <td>S</td>\n",
       "    </tr>\n",
       "    <tr>\n",
       "      <th>2</th>\n",
       "      <td>beagle</td>\n",
       "      <td>15</td>\n",
       "      <td>45</td>\n",
       "      <td>30</td>\n",
       "      <td>4</td>\n",
       "      <td>4</td>\n",
       "      <td>low</td>\n",
       "      <td>S</td>\n",
       "    </tr>\n",
       "  </tbody>\n",
       "</table>\n",
       "</div>"
      ],
      "text/plain": [
       "      breed  weight  chest  neck  bootsize  age activity  \\\n",
       "0  labrador      30     60    35         5    3     high   \n",
       "1    poodle      10     40    25         3    2   medium   \n",
       "2    beagle      15     45    30         4    4      low   \n",
       "\n",
       "  predicted_harness_size  \n",
       "0                      M  \n",
       "1                      S  \n",
       "2                      S  "
      ]
     },
     "execution_count": 29,
     "metadata": {},
     "output_type": "execute_result"
    }
   ],
   "source": [
    "# Ensure column names match training data\n",
    "new_dog_data.rename(columns={'boot_size': 'bootsize'}, inplace=True)\n",
    "\n",
    "# Now predict\n",
    "X_new = new_dog_data.copy()\n",
    "predicted_sizes = rf_pipeline.predict(X_new)\n",
    "new_dog_data['predicted_harness_size'] = predicted_sizes\n",
    "new_dog_data\n"
   ]
  },
  {
   "cell_type": "code",
   "execution_count": 30,
   "id": "23230db0",
   "metadata": {},
   "outputs": [
    {
     "name": "stderr",
     "output_type": "stream",
     "text": [
      "/tmp/ipykernel_130228/1851091775.py:5: FutureWarning: \n",
      "\n",
      "Passing `palette` without assigning `hue` is deprecated and will be removed in v0.14.0. Assign the `x` variable to `hue` and set `legend=False` for the same effect.\n",
      "\n",
      "  sns.countplot(x='predicted_harness_size', data=new_dog_data, palette='pastel')\n"
     ]
    },
    {
     "data": {
      "image/png": "[encoded data removed]",
      "text/plain": [
       "<Figure size 640x480 with 1 Axes>"
      ]
     },
     "metadata": {},
     "output_type": "display_data"
    },
    {
     "name": "stdout",
     "output_type": "stream",
     "text": [
      "Predictions saved to new_dogs_predictions.csv\n"
     ]
    }
   ],
   "source": [
    "# Cell 3: Visualize predicted harness sizes\n",
    "import matplotlib.pyplot as plt\n",
    "import seaborn as sns\n",
    "\n",
    "sns.countplot(x='predicted_harness_size', data=new_dog_data, palette='pastel')\n",
    "plt.title('Predicted Harness Size Distribution')\n",
    "plt.xlabel('Harness Size')\n",
    "plt.ylabel('Count')\n",
    "plt.show()\n",
    "\n",
    "# Optionally, save predictions to CSV\n",
    "new_dog_data.to_csv(\"../data/new_dogs_predictions.csv\", index=False)\n",
    "print(\"Predictions saved to new_dogs_predictions.csv\")\n"
   ]
  },
  {
   "cell_type": "code",
   "execution_count": 31,
   "id": "d88a9a47",
   "metadata": {},
   "outputs": [
    {
     "name": "stdout",
     "output_type": "stream",
     "text": [
      "predicted_harness_size\n",
      "S    2\n",
      "M    1\n",
      "Name: count, dtype: int64\n"
     ]
    },
    {
     "data": {
      "image/png": "[encoded data removed]",
      "text/plain": [
       "<Figure size 640x480 with 1 Axes>"
      ]
     },
     "metadata": {},
     "output_type": "display_data"
    }
   ],
   "source": [
    "# Count how many dogs fall into each harness size\n",
    "size_counts = new_dog_data['predicted_harness_size'].value_counts()\n",
    "print(size_counts)\n",
    "\n",
    "# Simple bar plot\n",
    "import matplotlib.pyplot as plt\n",
    "\n",
    "size_counts.plot(kind='bar', title='Predicted Harness Size Distribution')\n",
    "plt.xlabel('Harness Size')\n",
    "plt.ylabel('Number of Dogs')\n",
    "plt.show()\n"
   ]
  }
 ],
 "metadata": {
  "kernelspec": {
   "display_name": "dog-harness-env",
   "language": "python",
   "name": "python3"
  },
  "language_info": {
   "codemirror_mode": {
    "name": "ipython",
    "version": 3
   },
   "file_extension": ".py",
   "mimetype": "text/x-python",
   "name": "python",
   "nbconvert_exporter": "python",
   "pygments_lexer": "ipython3",
   "version": "3.10.12"
  }
 },
 "nbformat": 4,
 "nbformat_minor": 5
}
