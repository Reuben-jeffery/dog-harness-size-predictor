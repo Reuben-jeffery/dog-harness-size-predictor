{
 "cells": [
  {
   "cell_type": "code",
   "execution_count": 3,
   "id": "f4b04afa",
   "metadata": {},
   "outputs": [
    {
     "data": {
      "text/html": [
       "<div>\n",
       "<style scoped>\n",
       "    .dataframe tbody tr th:only-of-type {\n",
       "        vertical-align: middle;\n",
       "    }\n",
       "\n",
       "    .dataframe tbody tr th {\n",
       "        vertical-align: top;\n",
       "    }\n",
       "\n",
       "    .dataframe thead th {\n",
       "        text-align: right;\n",
       "    }\n",
       "</style>\n",
       "<table border=\"1\" class=\"dataframe\">\n",
       "  <thead>\n",
       "    <tr style=\"text-align: right;\">\n",
       "      <th></th>\n",
       "      <th>breed</th>\n",
       "      <th>weight</th>\n",
       "      <th>chest</th>\n",
       "      <th>neck</th>\n",
       "      <th>bootsize</th>\n",
       "      <th>age</th>\n",
       "      <th>activity</th>\n",
       "      <th>harnesssize</th>\n",
       "    </tr>\n",
       "  </thead>\n",
       "  <tbody>\n",
       "    <tr>\n",
       "      <th>0</th>\n",
       "      <td>Boxer</td>\n",
       "      <td>28.8</td>\n",
       "      <td>70.8</td>\n",
       "      <td>42.2</td>\n",
       "      <td>6</td>\n",
       "      <td>64.0</td>\n",
       "      <td>High</td>\n",
       "      <td>L</td>\n",
       "    </tr>\n",
       "    <tr>\n",
       "      <th>1</th>\n",
       "      <td>Boxer</td>\n",
       "      <td>30.8</td>\n",
       "      <td>67.6</td>\n",
       "      <td>41.5</td>\n",
       "      <td>3</td>\n",
       "      <td>55.0</td>\n",
       "      <td>Medium</td>\n",
       "      <td>L</td>\n",
       "    </tr>\n",
       "    <tr>\n",
       "      <th>2</th>\n",
       "      <td>Poodle</td>\n",
       "      <td>23.0</td>\n",
       "      <td>53.2</td>\n",
       "      <td>37.5</td>\n",
       "      <td>6</td>\n",
       "      <td>69.0</td>\n",
       "      <td>High</td>\n",
       "      <td>M</td>\n",
       "    </tr>\n",
       "    <tr>\n",
       "      <th>3</th>\n",
       "      <td>Boxer</td>\n",
       "      <td>29.4</td>\n",
       "      <td>70.8</td>\n",
       "      <td>37.8</td>\n",
       "      <td>6</td>\n",
       "      <td>26.0</td>\n",
       "      <td>Medium</td>\n",
       "      <td>L</td>\n",
       "    </tr>\n",
       "    <tr>\n",
       "      <th>4</th>\n",
       "      <td>Beagle</td>\n",
       "      <td>11.5</td>\n",
       "      <td>48.4</td>\n",
       "      <td>39.3</td>\n",
       "      <td>1</td>\n",
       "      <td>NaN</td>\n",
       "      <td>High</td>\n",
       "      <td>S</td>\n",
       "    </tr>\n",
       "  </tbody>\n",
       "</table>\n",
       "</div>"
      ],
      "text/plain": [
       "    breed  weight  chest  neck  bootsize   age activity harnesssize\n",
       "0   Boxer    28.8   70.8  42.2         6  64.0     High           L\n",
       "1   Boxer    30.8   67.6  41.5         3  55.0   Medium           L\n",
       "2  Poodle    23.0   53.2  37.5         6  69.0     High           M\n",
       "3   Boxer    29.4   70.8  37.8         6  26.0   Medium           L\n",
       "4  Beagle    11.5   48.4  39.3         1   NaN     High           S"
      ]
     },
     "execution_count": 3,
     "metadata": {},
     "output_type": "execute_result"
    }
   ],
   "source": [
    "# Set up environment & imports\n",
    "import sys\n",
    "import os\n",
    "\n",
    "# Add root folder to Python path (so we can import config.py)\n",
    "sys.path.append(os.path.abspath('..'))\n",
    "\n",
    "# Import config\n",
    "from config import RAW_DATA, MODELS_DIR\n",
    "\n",
    "# Core libraries\n",
    "import pandas as pd\n",
    "import numpy as np\n",
    "\n",
    "# ML libraries\n",
    "from sklearn.model_selection import train_test_split\n",
    "from sklearn.linear_model import LinearRegression\n",
    "from sklearn.ensemble import RandomForestRegressor\n",
    "from sklearn.metrics import mean_absolute_error, mean_squared_error, r2_score\n",
    "from sklearn.preprocessing import OneHotEncoder\n",
    "from sklearn.compose import ColumnTransformer\n",
    "from sklearn.pipeline import Pipeline\n",
    "\n",
    "# 2. Load dataset\n",
    "df = pd.read_csv(RAW_DATA)\n",
    "\n",
    "# Normalize column names for consistency\n",
    "df.columns = df.columns.str.lower()\n",
    "df.head()\n"
   ]
  },
  {
   "cell_type": "code",
   "execution_count": 11,
   "id": "ef1567aa",
   "metadata": {},
   "outputs": [
    {
     "name": "stdout",
     "output_type": "stream",
     "text": [
      "Categorical features: ['breed', 'activity']\n",
      "Numeric features: ['weight', 'chest', 'neck', 'bootsize', 'age']\n"
     ]
    }
   ],
   "source": [
    "# Define featuers and target\n",
    "# Target variable\n",
    "y = df['harnesssize']\n",
    "\n",
    "# Features (exclude target)\n",
    "X = df.drop('harnesssize', axis=1)\n",
    "\n",
    "# Identify categorical & numeric columns\n",
    "categorical_features = X.select_dtypes(include='object').columns.tolist()\n",
    "numeric_features = X.select_dtypes(include=['int64', 'float64']).columns.tolist()\n",
    "\n",
    "print(\"Categorical features:\", categorical_features)\n",
    "print(\"Numeric features:\", numeric_features)"
   ]
  },
  {
   "cell_type": "code",
   "execution_count": 12,
   "id": "74976ff1",
   "metadata": {},
   "outputs": [
    {
     "name": "stdout",
     "output_type": "stream",
     "text": [
      "Training samples: 8160\n",
      "Testing samples: 2040\n"
     ]
    }
   ],
   "source": [
    "# Train/Test Split\n",
    "\n",
    "from sklearn.model_selection import train_test_split\n",
    "\n",
    "# Split the data: 80% train, 20% test\n",
    "X_train, X_test, y_train, y_test = train_test_split(\n",
    "    X, y, test_size=0.2, random_state=42\n",
    ")\n",
    "\n",
    "print(\"Training samples:\", X_train.shape[0])\n",
    "print(\"Testing samples:\", X_test.shape[0])"
   ]
  },
  {
   "cell_type": "code",
   "execution_count": 13,
   "id": "1c3ab478",
   "metadata": {},
   "outputs": [
    {
     "name": "stdout",
     "output_type": "stream",
     "text": [
      "Pipeline ready for training!\n"
     ]
    }
   ],
   "source": [
    "# Preprocessing and Pipeline Setup\n",
    "from sklearn.preprocessing import OneHotEncoder\n",
    "from sklearn.compose import ColumnTransformer\n",
    "from sklearn.pipeline import Pipeline\n",
    "from sklearn.linear_model import LinearRegression\n",
    "\n",
    "# One-hot encode categorical features\n",
    "preprocessor = ColumnTransformer(\n",
    "    transformers=[\n",
    "        ('cat', OneHotEncoder(handle_unknown='ignore'), categorical_features)\n",
    "    ],\n",
    "    remainder='passthrough'  # keep numeric columns as-is\n",
    ")\n",
    "\n",
    "# Linear Regression pipeline\n",
    "lr_pipeline = Pipeline(steps=[\n",
    "    ('preprocessor', preprocessor),\n",
    "    ('regressor', LinearRegression())\n",
    "])\n",
    "\n",
    "print(\"Pipeline ready for training!\")"
   ]
  },
  {
   "cell_type": "code",
   "execution_count": 14,
   "id": "70a55746",
   "metadata": {},
   "outputs": [
    {
     "name": "stdout",
     "output_type": "stream",
     "text": [
      "Random Forest Accuracy: 0.9921568627450981\n"
     ]
    }
   ],
   "source": [
    "# Mapping Haness Sizes To Numeric Values\n",
    "from sklearn.ensemble import RandomForestClassifier\n",
    "\n",
    "rf_pipeline = Pipeline(steps=[\n",
    "    ('preprocessor', preprocessor),\n",
    "    ('classifier', RandomForestClassifier(n_estimators=100, random_state=42))\n",
    "])\n",
    "\n",
    "rf_pipeline.fit(X_train, y_train)  # No encoding needed\n",
    "y_pred_rf = rf_pipeline.predict(X_test)\n",
    "\n",
    "from sklearn.metrics import accuracy_score\n",
    "print(\"Random Forest Accuracy:\", accuracy_score(y_test, y_pred_rf))\n"
   ]
  },
  {
   "cell_type": "code",
   "execution_count": 15,
   "id": "2b747519",
   "metadata": {},
   "outputs": [
    {
     "data": {
      "image/png": "[encoded data removed]",
      "text/plain": [
       "<Figure size 1000x600 with 1 Axes>"
      ]
     },
     "metadata": {},
     "output_type": "display_data"
    }
   ],
   "source": [
    "# numeric features\n",
    "feature_names = numeric_features.copy()\n",
    "\n",
    "# get the OneHotEncoder directly from the preprocessor\n",
    "ohe = rf_pipeline.named_steps['preprocessor'].named_transformers_['cat']\n",
    "\n",
    "# get categorical feature names\n",
    "cat_feature_names = ohe.get_feature_names_out()  # no input argument needed if already fitted\n",
    "\n",
    "# combine\n",
    "feature_names += list(cat_feature_names)\n",
    "\n",
    "# get feature importances\n",
    "importances = rf_pipeline.named_steps['classifier'].feature_importances_\n",
    "feat_imp = pd.Series(importances, index=feature_names).sort_values(ascending=False)\n",
    "\n",
    "# plot\n",
    "import matplotlib.pyplot as plt\n",
    "import seaborn as sns\n",
    "\n",
    "plt.figure(figsize=(10,6))\n",
    "sns.barplot(x=feat_imp.values, y=feat_imp.index)\n",
    "plt.title(\"Random Forest Feature Importances\")\n",
    "plt.show()\n"
   ]
  },
  {
   "cell_type": "code",
   "execution_count": 18,
   "id": "36e99eea",
   "metadata": {},
   "outputs": [
    {
     "name": "stdout",
     "output_type": "stream",
     "text": [
      "Model saved to ../models/rf_harness_model.pkl\n"
     ]
    }
   ],
   "source": [
    "# Saving Trained Model\n",
    "import joblib\n",
    "joblib.dump(rf_pipeline, '../models/rf_harness_model.pkl')\n",
    "print(\"Model saved to ../models/rf_harness_model.pkl\")\n"
   ]
  }
 ],
 "metadata": {
  "kernelspec": {
   "display_name": "dog-harness-env",
   "language": "python",
   "name": "python3"
  },
  "language_info": {
   "codemirror_mode": {
    "name": "ipython",
    "version": 3
   },
   "file_extension": ".py",
   "mimetype": "text/x-python",
   "name": "python",
   "nbconvert_exporter": "python",
   "pygments_lexer": "ipython3",
   "version": "3.10.12"
  }
 },
 "nbformat": 4,
 "nbformat_minor": 5
}
